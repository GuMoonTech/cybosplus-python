{
 "cells": [
  {
   "cell_type": "markdown",
   "metadata": {},
   "source": [
    "# CybosPlus API 동작확인"
   ]
  },
  {
   "cell_type": "code",
   "execution_count": 1,
   "metadata": {
    "collapsed": true
   },
   "outputs": [],
   "source": [
    "from API.main import CybosPlus"
   ]
  },
  {
   "cell_type": "markdown",
   "metadata": {},
   "source": [
    "# 초기화 (계좌 비밀번호 입력)"
   ]
  },
  {
   "cell_type": "code",
   "execution_count": 3,
   "metadata": {
    "collapsed": false
   },
   "outputs": [],
   "source": [
    "CybosPlus.initialize()"
   ]
  },
  {
   "cell_type": "markdown",
   "metadata": {},
   "source": [
    "# 연결 확인 및 계좌번호 확인"
   ]
  },
  {
   "cell_type": "code",
   "execution_count": 4,
   "metadata": {
    "collapsed": false
   },
   "outputs": [
    {
     "data": {
      "text/plain": [
       "1"
      ]
     },
     "execution_count": 4,
     "metadata": {},
     "output_type": "execute_result"
    }
   ],
   "source": [
    "CybosPlus.is_connected()"
   ]
  },
  {
   "cell_type": "code",
   "execution_count": 8,
   "metadata": {
    "collapsed": true
   },
   "outputs": [],
   "source": [
    "account_number = CybosPlus.get_account_number()"
   ]
  },
  {
   "cell_type": "code",
   "execution_count": 9,
   "metadata": {
    "collapsed": false
   },
   "outputs": [
    {
     "name": "stdout",
     "output_type": "stream",
     "text": [
      "(u'335255368',)\n"
     ]
    }
   ],
   "source": [
    "print(account_number)"
   ]
  },
  {
   "cell_type": "code",
   "execution_count": 10,
   "metadata": {
    "collapsed": true
   },
   "outputs": [],
   "source": [
    "my_acc = account_number[0]"
   ]
  },
  {
   "cell_type": "markdown",
   "metadata": {},
   "source": [
    "## 계좌의 잔고 확인"
   ]
  },
  {
   "cell_type": "code",
   "execution_count": 13,
   "metadata": {
    "collapsed": false
   },
   "outputs": [],
   "source": [
    "money = CybosPlus.get_account_balance(my_acc)"
   ]
  },
  {
   "cell_type": "code",
   "execution_count": 15,
   "metadata": {
    "collapsed": false
   },
   "outputs": [
    {
     "name": "stdout",
     "output_type": "stream",
     "text": [
      "KRW 49,943,300\n"
     ]
    }
   ],
   "source": [
    "print \"KRW {:,}\".format(money)"
   ]
  },
  {
   "cell_type": "markdown",
   "metadata": {},
   "source": [
    "## 돌돌이 추천한 주식 구매\n",
    "\n",
    "* 에스티팜\n",
    "* 알보젠코리아\n",
    "* 메디아나\n",
    "\n",
    "## 각 종목 코드 확인"
   ]
  },
  {
   "cell_type": "code",
   "execution_count": 22,
   "metadata": {
    "collapsed": false
   },
   "outputs": [],
   "source": [
    "stock1 = CybosPlus.get_stock_code(u\"에스티팜\")\n",
    "stock2 = CybosPlus.get_stock_code(u\"알보젠코리아\")\n",
    "stock3 = CybosPlus.get_stock_code(u\"메디아나\")"
   ]
  },
  {
   "cell_type": "code",
   "execution_count": 23,
   "metadata": {
    "collapsed": false
   },
   "outputs": [
    {
     "name": "stdout",
     "output_type": "stream",
     "text": [
      "(u'A237690', u'A002250', u'A041920')\n"
     ]
    }
   ],
   "source": [
    "print(stock1, stock2, stock3)"
   ]
  },
  {
   "cell_type": "markdown",
   "metadata": {},
   "source": [
    "## 가격확인"
   ]
  },
  {
   "cell_type": "code",
   "execution_count": 27,
   "metadata": {
    "collapsed": false
   },
   "outputs": [
    {
     "data": {
      "text/html": [
       "<div>\n",
       "<table border=\"1\" class=\"dataframe\">\n",
       "  <thead>\n",
       "    <tr style=\"text-align: right;\">\n",
       "      <th></th>\n",
       "      <th>Date</th>\n",
       "      <th>Start</th>\n",
       "      <th>Min</th>\n",
       "      <th>Max</th>\n",
       "      <th>Close</th>\n",
       "    </tr>\n",
       "  </thead>\n",
       "  <tbody>\n",
       "    <tr>\n",
       "      <th>9</th>\n",
       "      <td>20160817</td>\n",
       "      <td>52400</td>\n",
       "      <td>50200</td>\n",
       "      <td>52800</td>\n",
       "      <td>50800</td>\n",
       "    </tr>\n",
       "    <tr>\n",
       "      <th>8</th>\n",
       "      <td>20160818</td>\n",
       "      <td>51000</td>\n",
       "      <td>50000</td>\n",
       "      <td>51600</td>\n",
       "      <td>50500</td>\n",
       "    </tr>\n",
       "    <tr>\n",
       "      <th>7</th>\n",
       "      <td>20160819</td>\n",
       "      <td>50700</td>\n",
       "      <td>50700</td>\n",
       "      <td>54800</td>\n",
       "      <td>54700</td>\n",
       "    </tr>\n",
       "    <tr>\n",
       "      <th>6</th>\n",
       "      <td>20160822</td>\n",
       "      <td>55300</td>\n",
       "      <td>54900</td>\n",
       "      <td>57200</td>\n",
       "      <td>55600</td>\n",
       "    </tr>\n",
       "    <tr>\n",
       "      <th>5</th>\n",
       "      <td>20160823</td>\n",
       "      <td>56300</td>\n",
       "      <td>54500</td>\n",
       "      <td>57200</td>\n",
       "      <td>55300</td>\n",
       "    </tr>\n",
       "    <tr>\n",
       "      <th>4</th>\n",
       "      <td>20160824</td>\n",
       "      <td>54000</td>\n",
       "      <td>52100</td>\n",
       "      <td>54400</td>\n",
       "      <td>52100</td>\n",
       "    </tr>\n",
       "    <tr>\n",
       "      <th>3</th>\n",
       "      <td>20160825</td>\n",
       "      <td>53000</td>\n",
       "      <td>51800</td>\n",
       "      <td>54000</td>\n",
       "      <td>53800</td>\n",
       "    </tr>\n",
       "    <tr>\n",
       "      <th>2</th>\n",
       "      <td>20160826</td>\n",
       "      <td>53900</td>\n",
       "      <td>53000</td>\n",
       "      <td>54500</td>\n",
       "      <td>53500</td>\n",
       "    </tr>\n",
       "    <tr>\n",
       "      <th>1</th>\n",
       "      <td>20160829</td>\n",
       "      <td>53800</td>\n",
       "      <td>53000</td>\n",
       "      <td>54100</td>\n",
       "      <td>53300</td>\n",
       "    </tr>\n",
       "    <tr>\n",
       "      <th>0</th>\n",
       "      <td>20160830</td>\n",
       "      <td>53700</td>\n",
       "      <td>52900</td>\n",
       "      <td>53900</td>\n",
       "      <td>53400</td>\n",
       "    </tr>\n",
       "  </tbody>\n",
       "</table>\n",
       "</div>"
      ],
      "text/plain": [
       "       Date  Start    Min    Max  Close\n",
       "9  20160817  52400  50200  52800  50800\n",
       "8  20160818  51000  50000  51600  50500\n",
       "7  20160819  50700  50700  54800  54700\n",
       "6  20160822  55300  54900  57200  55600\n",
       "5  20160823  56300  54500  57200  55300\n",
       "4  20160824  54000  52100  54400  52100\n",
       "3  20160825  53000  51800  54000  53800\n",
       "2  20160826  53900  53000  54500  53500\n",
       "1  20160829  53800  53000  54100  53300\n",
       "0  20160830  53700  52900  53900  53400"
      ]
     },
     "execution_count": 27,
     "metadata": {},
     "output_type": "execute_result"
    }
   ],
   "source": [
    "CybosPlus.get_10_latest_quotes(stock1)"
   ]
  },
  {
   "cell_type": "code",
   "execution_count": 28,
   "metadata": {
    "collapsed": false
   },
   "outputs": [
    {
     "data": {
      "text/html": [
       "<div>\n",
       "<table border=\"1\" class=\"dataframe\">\n",
       "  <thead>\n",
       "    <tr style=\"text-align: right;\">\n",
       "      <th></th>\n",
       "      <th>Date</th>\n",
       "      <th>Start</th>\n",
       "      <th>Min</th>\n",
       "      <th>Max</th>\n",
       "      <th>Close</th>\n",
       "    </tr>\n",
       "  </thead>\n",
       "  <tbody>\n",
       "    <tr>\n",
       "      <th>9</th>\n",
       "      <td>20160817</td>\n",
       "      <td>34700</td>\n",
       "      <td>33500</td>\n",
       "      <td>34950</td>\n",
       "      <td>34100</td>\n",
       "    </tr>\n",
       "    <tr>\n",
       "      <th>8</th>\n",
       "      <td>20160818</td>\n",
       "      <td>34900</td>\n",
       "      <td>33500</td>\n",
       "      <td>34900</td>\n",
       "      <td>33800</td>\n",
       "    </tr>\n",
       "    <tr>\n",
       "      <th>7</th>\n",
       "      <td>20160819</td>\n",
       "      <td>34200</td>\n",
       "      <td>33300</td>\n",
       "      <td>34250</td>\n",
       "      <td>33400</td>\n",
       "    </tr>\n",
       "    <tr>\n",
       "      <th>6</th>\n",
       "      <td>20160822</td>\n",
       "      <td>33450</td>\n",
       "      <td>32400</td>\n",
       "      <td>33450</td>\n",
       "      <td>32400</td>\n",
       "    </tr>\n",
       "    <tr>\n",
       "      <th>5</th>\n",
       "      <td>20160823</td>\n",
       "      <td>31850</td>\n",
       "      <td>31850</td>\n",
       "      <td>33400</td>\n",
       "      <td>33100</td>\n",
       "    </tr>\n",
       "    <tr>\n",
       "      <th>4</th>\n",
       "      <td>20160824</td>\n",
       "      <td>33000</td>\n",
       "      <td>32250</td>\n",
       "      <td>33300</td>\n",
       "      <td>32400</td>\n",
       "    </tr>\n",
       "    <tr>\n",
       "      <th>3</th>\n",
       "      <td>20160825</td>\n",
       "      <td>32300</td>\n",
       "      <td>31400</td>\n",
       "      <td>32550</td>\n",
       "      <td>32000</td>\n",
       "    </tr>\n",
       "    <tr>\n",
       "      <th>2</th>\n",
       "      <td>20160826</td>\n",
       "      <td>32450</td>\n",
       "      <td>31700</td>\n",
       "      <td>32700</td>\n",
       "      <td>32500</td>\n",
       "    </tr>\n",
       "    <tr>\n",
       "      <th>1</th>\n",
       "      <td>20160829</td>\n",
       "      <td>32500</td>\n",
       "      <td>31400</td>\n",
       "      <td>32650</td>\n",
       "      <td>31400</td>\n",
       "    </tr>\n",
       "    <tr>\n",
       "      <th>0</th>\n",
       "      <td>20160830</td>\n",
       "      <td>31600</td>\n",
       "      <td>31200</td>\n",
       "      <td>32000</td>\n",
       "      <td>31500</td>\n",
       "    </tr>\n",
       "  </tbody>\n",
       "</table>\n",
       "</div>"
      ],
      "text/plain": [
       "       Date  Start    Min    Max  Close\n",
       "9  20160817  34700  33500  34950  34100\n",
       "8  20160818  34900  33500  34900  33800\n",
       "7  20160819  34200  33300  34250  33400\n",
       "6  20160822  33450  32400  33450  32400\n",
       "5  20160823  31850  31850  33400  33100\n",
       "4  20160824  33000  32250  33300  32400\n",
       "3  20160825  32300  31400  32550  32000\n",
       "2  20160826  32450  31700  32700  32500\n",
       "1  20160829  32500  31400  32650  31400\n",
       "0  20160830  31600  31200  32000  31500"
      ]
     },
     "execution_count": 28,
     "metadata": {},
     "output_type": "execute_result"
    }
   ],
   "source": [
    "CybosPlus.get_10_latest_quotes(stock2)"
   ]
  },
  {
   "cell_type": "code",
   "execution_count": 29,
   "metadata": {
    "collapsed": false
   },
   "outputs": [
    {
     "data": {
      "text/html": [
       "<div>\n",
       "<table border=\"1\" class=\"dataframe\">\n",
       "  <thead>\n",
       "    <tr style=\"text-align: right;\">\n",
       "      <th></th>\n",
       "      <th>Date</th>\n",
       "      <th>Start</th>\n",
       "      <th>Min</th>\n",
       "      <th>Max</th>\n",
       "      <th>Close</th>\n",
       "    </tr>\n",
       "  </thead>\n",
       "  <tbody>\n",
       "    <tr>\n",
       "      <th>9</th>\n",
       "      <td>20160817</td>\n",
       "      <td>20250</td>\n",
       "      <td>20100</td>\n",
       "      <td>21150</td>\n",
       "      <td>20300</td>\n",
       "    </tr>\n",
       "    <tr>\n",
       "      <th>8</th>\n",
       "      <td>20160818</td>\n",
       "      <td>20300</td>\n",
       "      <td>20000</td>\n",
       "      <td>20450</td>\n",
       "      <td>20250</td>\n",
       "    </tr>\n",
       "    <tr>\n",
       "      <th>7</th>\n",
       "      <td>20160819</td>\n",
       "      <td>20350</td>\n",
       "      <td>20050</td>\n",
       "      <td>20400</td>\n",
       "      <td>20150</td>\n",
       "    </tr>\n",
       "    <tr>\n",
       "      <th>6</th>\n",
       "      <td>20160822</td>\n",
       "      <td>20100</td>\n",
       "      <td>19700</td>\n",
       "      <td>20400</td>\n",
       "      <td>19800</td>\n",
       "    </tr>\n",
       "    <tr>\n",
       "      <th>5</th>\n",
       "      <td>20160823</td>\n",
       "      <td>19650</td>\n",
       "      <td>19450</td>\n",
       "      <td>20850</td>\n",
       "      <td>19950</td>\n",
       "    </tr>\n",
       "    <tr>\n",
       "      <th>4</th>\n",
       "      <td>20160824</td>\n",
       "      <td>20100</td>\n",
       "      <td>19800</td>\n",
       "      <td>20150</td>\n",
       "      <td>19950</td>\n",
       "    </tr>\n",
       "    <tr>\n",
       "      <th>3</th>\n",
       "      <td>20160825</td>\n",
       "      <td>20000</td>\n",
       "      <td>19250</td>\n",
       "      <td>20000</td>\n",
       "      <td>19300</td>\n",
       "    </tr>\n",
       "    <tr>\n",
       "      <th>2</th>\n",
       "      <td>20160826</td>\n",
       "      <td>19300</td>\n",
       "      <td>18950</td>\n",
       "      <td>22500</td>\n",
       "      <td>19750</td>\n",
       "    </tr>\n",
       "    <tr>\n",
       "      <th>1</th>\n",
       "      <td>20160829</td>\n",
       "      <td>19800</td>\n",
       "      <td>19000</td>\n",
       "      <td>20300</td>\n",
       "      <td>19100</td>\n",
       "    </tr>\n",
       "    <tr>\n",
       "      <th>0</th>\n",
       "      <td>20160830</td>\n",
       "      <td>19100</td>\n",
       "      <td>18450</td>\n",
       "      <td>19300</td>\n",
       "      <td>18550</td>\n",
       "    </tr>\n",
       "  </tbody>\n",
       "</table>\n",
       "</div>"
      ],
      "text/plain": [
       "       Date  Start    Min    Max  Close\n",
       "9  20160817  20250  20100  21150  20300\n",
       "8  20160818  20300  20000  20450  20250\n",
       "7  20160819  20350  20050  20400  20150\n",
       "6  20160822  20100  19700  20400  19800\n",
       "5  20160823  19650  19450  20850  19950\n",
       "4  20160824  20100  19800  20150  19950\n",
       "3  20160825  20000  19250  20000  19300\n",
       "2  20160826  19300  18950  22500  19750\n",
       "1  20160829  19800  19000  20300  19100\n",
       "0  20160830  19100  18450  19300  18550"
      ]
     },
     "execution_count": 29,
     "metadata": {},
     "output_type": "execute_result"
    }
   ],
   "source": [
    "CybosPlus.get_10_latest_quotes(stock3)"
   ]
  },
  {
   "cell_type": "code",
   "execution_count": null,
   "metadata": {
    "collapsed": true
   },
   "outputs": [],
   "source": [
    "stock_prices = [53400, 31500, 18550]"
   ]
  },
  {
   "cell_type": "markdown",
   "metadata": {},
   "source": [
    "## 얼마 사야 되지 계산좀\n",
    "$$ 53400 * a + 31500 * b + 18550 * c = 49,943,300 $$"
   ]
  },
  {
   "cell_type": "markdown",
   "metadata": {},
   "source": [
    "## 모르겠으니그냥 각 10주씩 구매"
   ]
  },
  {
   "cell_type": "code",
   "execution_count": 30,
   "metadata": {
    "collapsed": false
   },
   "outputs": [
    {
     "data": {
      "text/plain": [
       "(u'2', 3547)"
      ]
     },
     "execution_count": 30,
     "metadata": {},
     "output_type": "execute_result"
    }
   ],
   "source": [
    "CybosPlus.buy_order(my_acc, stock1, 10)\n",
    "CybosPlus.buy_order(my_acc, stock2, 10)"
   ]
  },
  {
   "cell_type": "code",
   "execution_count": 31,
   "metadata": {
    "collapsed": false
   },
   "outputs": [
    {
     "data": {
      "text/plain": [
       "(u'2', 3551)"
      ]
     },
     "execution_count": 31,
     "metadata": {},
     "output_type": "execute_result"
    }
   ],
   "source": [
    "CybosPlus.buy_order(my_acc, stock3, 10)"
   ]
  },
  {
   "cell_type": "code",
   "execution_count": 39,
   "metadata": {
    "collapsed": false
   },
   "outputs": [],
   "source": [
    "portfolio = CybosPlus.get_account_portfolio(my_acc)"
   ]
  },
  {
   "cell_type": "code",
   "execution_count": 36,
   "metadata": {
    "collapsed": true
   },
   "outputs": [],
   "source": [
    "import pandas as pd"
   ]
  },
  {
   "cell_type": "code",
   "execution_count": 40,
   "metadata": {
    "collapsed": false
   },
   "outputs": [
    {
     "data": {
      "text/html": [
       "<div>\n",
       "<table border=\"1\" class=\"dataframe\">\n",
       "  <thead>\n",
       "    <tr style=\"text-align: right;\">\n",
       "      <th></th>\n",
       "      <th>종목명</th>\n",
       "      <th>결제수량</th>\n",
       "      <th>체결수량</th>\n",
       "      <th>평가금액</th>\n",
       "      <th>수익률</th>\n",
       "      <th>매도가능</th>\n",
       "    </tr>\n",
       "  </thead>\n",
       "  <tbody>\n",
       "    <tr>\n",
       "      <th>0</th>\n",
       "      <td>알보젠코리아</td>\n",
       "      <td>1</td>\n",
       "      <td>1</td>\n",
       "      <td>31000</td>\n",
       "      <td>-1.25</td>\n",
       "      <td>1</td>\n",
       "    </tr>\n",
       "    <tr>\n",
       "      <th>1</th>\n",
       "      <td>NAVER</td>\n",
       "      <td>10</td>\n",
       "      <td>10</td>\n",
       "      <td>8112000</td>\n",
       "      <td>-0.52</td>\n",
       "      <td>10</td>\n",
       "    </tr>\n",
       "    <tr>\n",
       "      <th>2</th>\n",
       "      <td>메디아나</td>\n",
       "      <td>10</td>\n",
       "      <td>10</td>\n",
       "      <td>185000</td>\n",
       "      <td>-1.02</td>\n",
       "      <td>10</td>\n",
       "    </tr>\n",
       "    <tr>\n",
       "      <th>3</th>\n",
       "      <td>에스티팜</td>\n",
       "      <td>10</td>\n",
       "      <td>10</td>\n",
       "      <td>530000</td>\n",
       "      <td>-0.71</td>\n",
       "      <td>10</td>\n",
       "    </tr>\n",
       "  </tbody>\n",
       "</table>\n",
       "</div>"
      ],
      "text/plain": [
       "      종목명  결제수량  체결수량     평가금액   수익률  매도가능\n",
       "0  알보젠코리아     1     1    31000 -1.25     1\n",
       "1   NAVER    10    10  8112000 -0.52    10\n",
       "2    메디아나    10    10   185000 -1.02    10\n",
       "3    에스티팜    10    10   530000 -0.71    10"
      ]
     },
     "execution_count": 40,
     "metadata": {},
     "output_type": "execute_result"
    }
   ],
   "source": [
    "pd.DataFrame(portfolio, columns=['종목명', '결제수량', '체결수량', '평가금액', '수익률', '매도가능'])"
   ]
  },
  {
   "cell_type": "markdown",
   "metadata": {},
   "source": [
    "## 알보젠코리아 주문은 10개였으나 시장가에 1건만 체결이 되었음"
   ]
  },
  {
   "cell_type": "code",
   "execution_count": 47,
   "metadata": {
    "collapsed": false
   },
   "outputs": [
    {
     "data": {
      "text/html": [
       "<div>\n",
       "<table border=\"1\" class=\"dataframe\">\n",
       "  <thead>\n",
       "    <tr style=\"text-align: right;\">\n",
       "      <th></th>\n",
       "      <th>0</th>\n",
       "      <th>1</th>\n",
       "      <th>2</th>\n",
       "      <th>3</th>\n",
       "      <th>4</th>\n",
       "    </tr>\n",
       "  </thead>\n",
       "  <tbody>\n",
       "    <tr>\n",
       "      <th>0</th>\n",
       "      <td>3551</td>\n",
       "      <td>A041920</td>\n",
       "      <td>메디아나</td>\n",
       "      <td>정규장현금매수</td>\n",
       "      <td>10</td>\n",
       "    </tr>\n",
       "    <tr>\n",
       "      <th>1</th>\n",
       "      <td>3547</td>\n",
       "      <td>A002250</td>\n",
       "      <td>알보젠코리아</td>\n",
       "      <td>정규장현금매수</td>\n",
       "      <td>1</td>\n",
       "    </tr>\n",
       "    <tr>\n",
       "      <th>2</th>\n",
       "      <td>3545</td>\n",
       "      <td>A237690</td>\n",
       "      <td>에스티팜</td>\n",
       "      <td>정규장현금매수</td>\n",
       "      <td>10</td>\n",
       "    </tr>\n",
       "    <tr>\n",
       "      <th>3</th>\n",
       "      <td>3316</td>\n",
       "      <td>A035420</td>\n",
       "      <td>NAVER</td>\n",
       "      <td>정규장현금매수</td>\n",
       "      <td>2</td>\n",
       "    </tr>\n",
       "    <tr>\n",
       "      <th>4</th>\n",
       "      <td>3316</td>\n",
       "      <td>A035420</td>\n",
       "      <td>NAVER</td>\n",
       "      <td>정규장현금매수</td>\n",
       "      <td>8</td>\n",
       "    </tr>\n",
       "  </tbody>\n",
       "</table>\n",
       "</div>"
      ],
      "text/plain": [
       "      0        1       2        3   4\n",
       "0  3551  A041920    메디아나  정규장현금매수  10\n",
       "1  3547  A002250  알보젠코리아  정규장현금매수   1\n",
       "2  3545  A237690    에스티팜  정규장현금매수  10\n",
       "3  3316  A035420   NAVER  정규장현금매수   2\n",
       "4  3316  A035420   NAVER  정규장현금매수   8"
      ]
     },
     "execution_count": 47,
     "metadata": {},
     "output_type": "execute_result"
    }
   ],
   "source": [
    "pd.DataFrame(CybosPlus.get_order_status(my_acc))"
   ]
  },
  {
   "cell_type": "markdown",
   "metadata": {},
   "source": [
    "## 구매 테스트 확인끝"
   ]
  },
  {
   "cell_type": "code",
   "execution_count": null,
   "metadata": {
    "collapsed": true
   },
   "outputs": [],
   "source": []
  }
 ],
 "metadata": {
  "anaconda-cloud": {},
  "kernelspec": {
   "display_name": "Python [Root]",
   "language": "python",
   "name": "Python [Root]"
  },
  "language_info": {
   "codemirror_mode": {
    "name": "ipython",
    "version": 2
   },
   "file_extension": ".py",
   "mimetype": "text/x-python",
   "name": "python",
   "nbconvert_exporter": "python",
   "pygments_lexer": "ipython2",
   "version": "2.7.12"
  }
 },
 "nbformat": 4,
 "nbformat_minor": 0
}
